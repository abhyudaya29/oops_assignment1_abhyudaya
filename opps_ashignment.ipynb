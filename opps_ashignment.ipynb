{
 "cells": [
  {
   "cell_type": "markdown",
   "id": "ac74d16d-1286-4892-b70a-8cf05dd9a864",
   "metadata": {},
   "source": [
    "Q1. Explain Class and Object with respect to Object-Oriented Programming. Give a suitable example."
   ]
  },
  {
   "cell_type": "markdown",
   "id": "fe8e93ec-557b-45ec-995f-28abaa37036d",
   "metadata": {},
   "source": [
    "Class and Object are basic concepts in Object-Oriented Programming\n",
    "\n",
    "A class is a blueprint or template that defines the data  and behaviors ( of a category of objects. Classes can be considered as a blueprint for creating objects, a particular data structure, or a user-defined data type.\n",
    "\n",
    "An object, on the other hand, is an instance of a class. Objects are individual entities that contain data and behavior. They are created at runtime and can be thought of as a specific instance of a class.\n",
    "\n",
    "For example, consider a class \"Person\". The Person class could have attributes such as name, age, and address, and behaviors such as speaking, walking, and eating. An object of this class could be abhyudaya dubey, with the values name=\"abhyudaya dubey\", age=20, address=\"123 delhi_ncr\".\n",
    "\n",
    "So, in OOP, we define classes and use them to create objects that have the attributes and behaviors specified in the class definition."
   ]
  },
  {
   "cell_type": "markdown",
   "id": "96a3c775-f096-4f43-b958-3b1c332f3818",
   "metadata": {},
   "source": [
    "Q2. Name the four pillars of OOPs."
   ]
  },
  {
   "cell_type": "markdown",
   "id": "34234e6e-d87a-4e6e-a58d-b55ab78d3c10",
   "metadata": {},
   "source": [
    "1)Encapsulation\n",
    "2)Abstraction\n",
    "3)Inheritance\n",
    "4)Polymorphism"
   ]
  },
  {
   "cell_type": "markdown",
   "id": "df169ed5-e1dd-4870-a0d6-d9b18e76ddf5",
   "metadata": {},
   "source": [
    "Q3)Explain why the __init__() function is used. Give a suitable example."
   ]
  },
  {
   "cell_type": "markdown",
   "id": "c2cfc096-6cd8-4790-a238-4aad6c21cccf",
   "metadata": {},
   "source": [
    "The __init__() function is a special method in Python and is used to initialize an object's attributes when an object is created from a class. \n",
    "This function is automatically called when an object of a class is created, "
   ]
  },
  {
   "cell_type": "code",
   "execution_count": 2,
   "id": "cc128bb7-2c9f-4d2d-a87e-f671d6249509",
   "metadata": {},
   "outputs": [],
   "source": [
    "# example:\n",
    "class pwskills2:\n",
    "    def __init__(dev, student_id,student_number,name):\n",
    "        dev.student_id=student_id\n",
    "        dev.student_number=student_number\n",
    "        dev.name=name\n",
    "    def return_data(dev):\n",
    "        return dev.student_id,dev.student_number,dev.name"
   ]
  },
  {
   "cell_type": "code",
   "execution_count": 3,
   "id": "85f48721-b0d8-4229-b435-7a06050ee087",
   "metadata": {},
   "outputs": [],
   "source": [
    "abh=pwskills2(1002,8377939976,'abhyudaya')"
   ]
  },
  {
   "cell_type": "code",
   "execution_count": null,
   "id": "a5d145f2-3074-41e0-bd97-56d737ac1bf6",
   "metadata": {},
   "outputs": [
    {
     "data": {
      "text/plain": [
       "'abhyudaya'"
      ]
     },
     "execution_count": 4,
     "metadata": {},
     "output_type": "execute_result"
    }
   ],
   "source": [
    "abh.name"
   ]
  },
  {
   "cell_type": "markdown",
   "id": "d7d032e2-abd9-4917-ada0-f348b927e547",
   "metadata": {},
   "source": [
    "q4) Why self is used in OOPs?"
   ]
  },
  {
   "cell_type": "markdown",
   "id": "6c5f1c29-1063-4add-9218-23046577a2ae",
   "metadata": {},
   "source": [
    "elf is used as a reference to the current object. \n",
    "self allows the methods of a class to access the attributes and behaviors of the specific object that is calling the method."
   ]
  },
  {
   "cell_type": "markdown",
   "id": "2a426b84-5da4-4b3b-adb7-6f1465278e7a",
   "metadata": {},
   "source": [
    "Q5. What is inheritance? Give an example for each type of inheritance."
   ]
  },
  {
   "cell_type": "markdown",
   "id": "b0a2c8b4-f1b9-4dbc-8601-38d5f3f5ac0a",
   "metadata": {},
   "source": [
    "Inheritance is a fundamental concept in Object-Oriented Programming  that allows you to create new classes based on existing classes. The new class, known as the derived class, inherits the attributes and behaviors of the existing class, known as the base class. \n",
    "This allows you to reuse and extend the code of the base class in the derived class."
   ]
  },
  {
   "cell_type": "code",
   "execution_count": null,
   "id": "620f2faf-2660-460e-a358-312b73365fbb",
   "metadata": {},
   "outputs": [],
   "source": []
  }
 ],
 "metadata": {
  "kernelspec": {
   "display_name": "Python 3 (ipykernel)",
   "language": "python",
   "name": "python3"
  },
  "language_info": {
   "codemirror_mode": {
    "name": "ipython",
    "version": 3
   },
   "file_extension": ".py",
   "mimetype": "text/x-python",
   "name": "python",
   "nbconvert_exporter": "python",
   "pygments_lexer": "ipython3",
   "version": "3.10.8"
  }
 },
 "nbformat": 4,
 "nbformat_minor": 5
}
